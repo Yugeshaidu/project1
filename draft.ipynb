{
 "cells": [
  {
   "cell_type": "code",
   "execution_count": 2,
   "id": "d98408ce-243a-42f8-9a8a-d4cd95d59c82",
   "metadata": {},
   "outputs": [],
   "source": [
    "from pdf2image import convert_from_path"
   ]
  },
  {
   "cell_type": "code",
   "execution_count": 9,
   "id": "d75f737b-7eba-463d-a7c9-c7a233e09e60",
   "metadata": {},
   "outputs": [],
   "source": [
    "# Function to convert PDF to images\n",
    "def pdf_to_images(pdf_path, output_folder):\n",
    "    # Convert PDF to images\n",
    "    images = convert_from_path(pdf_path, dpi=300)  # Set dpi to 300 for high quality\n",
    "    for i, image in enumerate(images):\n",
    "        image.save(f\"{output_folder}/page_{i + 1}.png\", \"PNG\")  # Save as PNG to avoid quality loss\n"
   ]
  },
  {
   "cell_type": "code",
   "execution_count": 17,
   "id": "0a926533-317d-4338-98d3-a30014e6a911",
   "metadata": {},
   "outputs": [],
   "source": [
    "# Example usage\n",
    "pdf_to_images(\"data/raw_data/1.pdf\", 'data/separated_pages')"
   ]
  },
  {
   "cell_type": "code",
   "execution_count": null,
   "id": "5e71ef2b-60ef-4523-ac7d-64de8dd13b3f",
   "metadata": {},
   "outputs": [],
   "source": []
  }
 ],
 "metadata": {
  "kernelspec": {
   "display_name": "Python 3 (ipykernel)",
   "language": "python",
   "name": "python3"
  },
  "language_info": {
   "codemirror_mode": {
    "name": "ipython",
    "version": 3
   },
   "file_extension": ".py",
   "mimetype": "text/x-python",
   "name": "python",
   "nbconvert_exporter": "python",
   "pygments_lexer": "ipython3",
   "version": "3.12.7"
  }
 },
 "nbformat": 4,
 "nbformat_minor": 5
}
