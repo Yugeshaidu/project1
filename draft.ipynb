{
 "cells": [
  {
   "cell_type": "code",
   "execution_count": 1,
   "id": "d98408ce-243a-42f8-9a8a-d4cd95d59c82",
   "metadata": {},
   "outputs": [],
   "source": [
    "from pdf2image import convert_from_path\n",
    "import os\n",
    "import shutil"
   ]
  },
  {
   "cell_type": "code",
   "execution_count": 3,
   "id": "d75f737b-7eba-463d-a7c9-c7a233e09e60",
   "metadata": {},
   "outputs": [],
   "source": [
    "# Function to convert PDF to images\n",
    "def pdf_to_images(pdf_path, output_folder):\n",
    "    # Convert PDF to images\n",
    "    images = convert_from_path(pdf_path, dpi=300)  # Set dpi to 300 for high quality\n",
    "    for i, image in enumerate(images):\n",
    "        image.save(f\"{output_folder}/page_{i + 1}.png\", \"PNG\")  # Save as PNG to avoid quality loss"
   ]
  },
  {
   "cell_type": "code",
   "execution_count": 5,
   "id": "0a926533-317d-4338-98d3-a30014e6a911",
   "metadata": {},
   "outputs": [],
   "source": [
    "# Example usage\n",
    "pdf_to_images(\"data/raw_data/2.pdf\", 'data/separated_pages')"
   ]
  },
  {
   "cell_type": "code",
   "execution_count": 6,
   "id": "dc594717-d1cf-4d21-bdd4-b73f3c404e92",
   "metadata": {},
   "outputs": [
    {
     "name": "stdout",
     "output_type": "stream",
     "text": [
      "Moved: page_1.png to page_1.png\n",
      "Moved: page_2.png to page_2.png\n",
      "Moved: page_3.png to page_3.png\n",
      "Moved: page_4.png to page_4.png\n"
     ]
    },
    {
     "name": "stderr",
     "output_type": "stream",
     "text": [
      "<>:28: SyntaxWarning: invalid escape sequence '\\s'\n",
      "<>:28: SyntaxWarning: invalid escape sequence '\\s'\n",
      "C:\\Users\\naidu\\AppData\\Local\\Temp\\ipykernel_9872\\596651685.py:28: SyntaxWarning: invalid escape sequence '\\s'\n",
      "  destination_directory = \"data\\separate_complied\"\n"
     ]
    }
   ],
   "source": [
    "def move_files_without_overwrite(source_dir, destination_dir):\n",
    "    # Ensure the destination directory exists\n",
    "    os.makedirs(destination_dir, exist_ok=True)\n",
    "    \n",
    "    # Iterate through all files in the source directory\n",
    "    for filename in os.listdir(source_dir):\n",
    "        source_file = os.path.join(source_dir, filename)\n",
    "        destination_file = os.path.join(destination_dir, filename)\n",
    "        \n",
    "        # Check if it's a file (not a subdirectory)\n",
    "        if os.path.isfile(source_file):\n",
    "            # Check if the file already exists in the destination\n",
    "            if os.path.exists(destination_file):\n",
    "                # Generate a new unique filename\n",
    "                base, extension = os.path.splitext(filename)\n",
    "                counter = 1\n",
    "                while os.path.exists(destination_file):\n",
    "                    new_filename = f\"{base}_{counter}{extension}\"\n",
    "                    destination_file = os.path.join(destination_dir, new_filename)\n",
    "                    counter += 1\n",
    "            \n",
    "            # Move the file\n",
    "            shutil.move(source_file, destination_file)\n",
    "            print(f\"Moved: {os.path.basename(source_file)} to {os.path.basename(destination_file)}\")\n",
    "\n",
    "# Example usage\n",
    "source_directory = \"data/separated_pages\"\n",
    "destination_directory = \"data\\separate_complied\"\n",
    "move_files_without_overwrite(source_directory, destination_directory)"
   ]
  },
  {
   "cell_type": "code",
   "execution_count": 7,
   "id": "05454bb1-ecd4-42f7-b249-b04612e0e8d7",
   "metadata": {},
   "outputs": [
    {
     "name": "stdout",
     "output_type": "stream",
     "text": [
      "Moved: page_1.png to page_1_1.png\n",
      "Moved: page_2.png to page_2_1.png\n",
      "Moved: page_3.png to page_3_1.png\n",
      "Moved: page_4.png to page_4_1.png\n",
      "Moved: page_1.png to page_1_2.png\n",
      "Moved: page_2.png to page_2_2.png\n",
      "Moved: page_3.png to page_3_2.png\n",
      "Moved: page_4.png to page_4_2.png\n",
      "Moved: page_1.png to page_1_3.png\n",
      "Moved: page_2.png to page_2_3.png\n",
      "Moved: page_3.png to page_3_3.png\n",
      "Moved: page_4.png to page_4_3.png\n",
      "Moved: page_5.png to page_5.png\n",
      "Moved: page_1.png to page_1_4.png\n",
      "Moved: page_2.png to page_2_4.png\n",
      "Moved: page_3.png to page_3_4.png\n",
      "Moved: page_4.png to page_4_4.png\n",
      "Moved: page_5.png to page_5_1.png\n",
      "Moved: page_6.png to page_6.png\n",
      "Moved: page_7.png to page_7.png\n",
      "Moved: page_1.png to page_1_5.png\n",
      "Moved: page_2.png to page_2_5.png\n",
      "Moved: page_3.png to page_3_5.png\n",
      "Moved: page_4.png to page_4_5.png\n",
      "Moved: page_5.png to page_5_2.png\n",
      "Moved: page_1.png to page_1_6.png\n",
      "Moved: page_2.png to page_2_6.png\n",
      "Moved: page_3.png to page_3_6.png\n",
      "Moved: page_1.png to page_1_7.png\n",
      "Moved: page_2.png to page_2_7.png\n",
      "Moved: page_3.png to page_3_7.png\n",
      "Moved: page_4.png to page_4_6.png\n",
      "Moved: page_5.png to page_5_3.png\n",
      "Moved: page_6.png to page_6_1.png\n",
      "Moved: page_7.png to page_7_1.png\n"
     ]
    }
   ],
   "source": [
    "for i in range(1,8):\n",
    "    pdf_to_images(f\"data/raw_data/{i}.pdf\",\"data/separated_pages\")\n",
    "    move_files_without_overwrite(source_directory, destination_directory)"
   ]
  },
  {
   "cell_type": "code",
   "execution_count": null,
   "id": "44b96354-a32e-47f7-8d03-443c7fc2cf7b",
   "metadata": {},
   "outputs": [],
   "source": []
  }
 ],
 "metadata": {
  "kernelspec": {
   "display_name": "Python 3 (ipykernel)",
   "language": "python",
   "name": "python3"
  },
  "language_info": {
   "codemirror_mode": {
    "name": "ipython",
    "version": 3
   },
   "file_extension": ".py",
   "mimetype": "text/x-python",
   "name": "python",
   "nbconvert_exporter": "python",
   "pygments_lexer": "ipython3",
   "version": "3.12.7"
  }
 },
 "nbformat": 4,
 "nbformat_minor": 5
}
